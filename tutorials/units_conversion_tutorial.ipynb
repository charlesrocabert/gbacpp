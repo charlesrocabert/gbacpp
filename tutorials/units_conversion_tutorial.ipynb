{
 "cells": [
  {
   "cell_type": "markdown",
   "metadata": {},
   "source": [
    "<p align=\"center\">\n",
    "  <img src=\"https://github.com/user-attachments/assets/8fa40876-2e8a-4cf5-9374-b8af105e769c\" width=250 />\n",
    "\n",
    "</p>\n",
    "\n",
    "<p align=\"center\">\n",
    "  <h3 align=\"center\">Cell growth model (CGM) format tutorial</h3>\n",
    "</p>\n",
    "\n",
    "-----------------\n",
    "\n",
    "When building a cell growth model (CGM) relying on growth balance analysis (GBA) formalism, it is necessary to convert stoichiometric coefficients and kinetic parameters to mass units, or mass normalized units. Please refer to <a href=\"https://doi.org/10.1371/journal.pcbi.1011156\" target=\"_blank\">Dourado et al. (2023)</a> and the tutorial available on https://cellgrowthsim.com/ for other detailed sources.\n",
    "\n",
    "Three main variables must be converted. This require to know the molecular mass (in Da) of metabolites and enzymes.\n",
    "\n",
    "# Conversion of stoichiometric coefficients <a name=\"stoichiometric_coefficients\"></a>\n",
    "\n",
    "The stoichiometry of each reaction is converted. For each metabolite $i$ and reaction $j$:\n",
    "- Each stoichiometric coefficient is multiplied by the mass of the metabolite $m_i$ (in Da),\n",
    "  $$S_{i,j} = S_{i,\\cdot} \\times m_i$$\n",
    "- The calculated mass stoichiometry is then normalized (the sum of reactant coefficients is equal to -1, the sum of product coefficients is equal to 1),\n",
    "  $$\n",
    "  M_{i,j} =\n",
    "  \\left\\{\n",
    "  \\begin{array}{rl}\n",
    "  \\dfrac{S_{i,j}}{\\sum_{i \\in \\text{reactants}} \\lvert S_{i,j} \\rvert} & \\text{ if $i$ reactant}\\\\\\\\\n",
    "  \\dfrac{S_{i,j}}{\\sum_{i \\in \\text{products}} S_{i,j}} & \\text{ if $i$ product}\n",
    "  \\end{array}\n",
    "  \\right.\n",
    "  $$\n",
    "\n",
    "# Conversion of Michaelis constant values <a name=\"km\"></a>\n",
    "\n",
    "$K_\\text{M}$ values are converted to mass units:\n",
    "- Each $K_\\text{M}$ value is multiplied by the mass of the metabolite\n",
    "  $$K_\\text{M,i} = K_\\text{M,i} \\times m_i \\text{ for each metabolite }i$$\n",
    "\n",
    "# Conversion of turnover rates <a name=\"kcat\"></a>\n",
    "\n",
    "$k_\\text{cat}$ values are converted to mass units:\n",
    "- Each $k_\\text{cat}$ value is multipled by the sum of the product masses times their stoichiometric coefficient, and divided by the mass of the enzyme $e$. Therefore for the forward $k_\\text{cat,j}^f$ of reaction $j$:\n",
    "  $$k_\\text{cat,j}^f = k_\\text{cat,j}^f \\times \\dfrac{\\sum_{i \\in \\text{products}} S_{ij} \\times m_i}{e_j}$$\n",
    "- And for the backward $k_\\text{cat,j}^b$:\n",
    "  $$k_\\text{cat,j}^b = k_\\text{cat,j}^b \\times \\dfrac{\\sum_{i \\in \\text{reactants}} S_{ij} \\times m_i}{e_j}$$\n",
    "\n"
   ]
  }
 ],
 "metadata": {
  "kernelspec": {
   "display_name": "Python 3",
   "language": "python",
   "name": "python3"
  },
  "language_info": {
   "codemirror_mode": {
    "name": "ipython",
    "version": 3
   },
   "file_extension": ".py",
   "mimetype": "text/x-python",
   "name": "python",
   "nbconvert_exporter": "python",
   "pygments_lexer": "ipython3",
   "version": "3.12.6"
  }
 },
 "nbformat": 4,
 "nbformat_minor": 2
}
